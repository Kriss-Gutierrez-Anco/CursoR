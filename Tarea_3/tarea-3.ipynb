{
 "cells": [
  {
   "cell_type": "markdown",
   "metadata": {},
   "source": [
    "# Applications Of R Programming In R-eal World\n",
    "R se torno en el lenguaje mas frecuente para la ciencia de datos  \n",
    "R es un lenguaje y un entorno para la informatica estadistica. Este es proyecto GNU que se parece al de lenguaje S y su entorno  \n",
    "La programación en R trajo modificaciones revolucionarias en  Big Data analisis. La programación en R puede considerarse como una ejecución alterneativa de S, muchos de los códigos compuestos para Spermanece inalterado bajo R  \n",
    "La programación en R ofrece una variedad de herramientas estadisticas, test tradicionales estadisticos, analisis del arreglo del tiempo, agrupación y tecnicas gráficas y es profundamente extensible  \n",
    "El lenguaje en S es el vehículo de desición para exploración en la metodología estadistica y R ofrece una ruta de código abierto para la cooperación en esa acción \n",
    "Las aplicaciones de la programación en R abarca desde el universo de las estadisticas hipoteticas, computational statistics and the hard sciences, como por ejemplo : AStronomia, Química, economia en aplicaciones practicas en el negocio, cuidado de la salud , finanzas y marketing, la medicina, etc  \n",
    "Muchos analistas en la finanza usan R como su principal herramienta de programación. Es bueno para todo desde la importación de datosy limpieza de datos, investigaciones y visualizaciones\n",
    "## ¿Porque deberia adoptar la programación en R?\n",
    "R es el mejor mecanismo para la estadistica, analisis de datos y machine learning. Es más que un paquete estadistico, es un lenguaje de programacion, así que puede crear objetos, funciones y paquetes  \n",
    "Al igual que todas las aplicaciones los programas en R registran explicitamente las acciones de analisis y facilitan la reproducción y actualización del informe \n",
    "Es independiente de la plataforma, por lo que se puede aplicar a cada sistema operativo y es gratis, también es de código abierto. Eso significa que cualquiera puede examinar el código fuente para ver exactamente lo que está haciendo. Esto también significa que cualquier persona puede arreglar errores y agregar características, en lugar de esperar a que el proveedor encuentre / corrija el error y agregue la característica -a su discreción- en una versión futura.\n",
    "R permite la integración con otros lenguajes (C / C ++, Java, Python) y permite comunicarse con muchas fuentes de datos: bases de datos compatibles con ODBC (Excel, Access) y otros paquetes estadísticos (SAS, Stata, SPSS, Minitab).  \n",
    "R La programación es el mejor enfoque para crear un análisis reproducible y de calidad excesiva. Muchas de las aplicaciones que escribo en R son sinceramente sólo colecciones de scripts que están equipadas en tareas.  \n",
    "Se utiliza en casi todos los campos que se podría pensar. Sin embargo, los más difundidos comprenden: Finanzas, Biociencia, Cadena de suministro, Deportes, Venta al por menor, Marketing y Manufactura.  \n",
    "\n",
    "Google está utilizando la programación R y es un lenguaje satisfactorio para hacer cualquier forma de estadísticas o manipulación de datos visualización, sin embargo, su poder se encuentra en las capacidades y bibliotecas construidas en vez de sus fortalezas como un lenguaje en sí (sintaxis, diseño , legibilidad, etc.).\n",
    "\n",
    ">_De estos tres lenguajes estadísticos, R es el único que es de código abierto. SAS es la empresa privada de software más  importante del mundo, y SPSS ahora es administrada a través de IBM._  \n",
    "\n",
    "R y sus bibliotecas ponen en vigor un amplio tipo de técnicas estadísticas y gráficas, junto con modelización lineal y no lineal, exámenes estadísticos clásicos, análisis de secuencia temporal, clasificación, agrupación y otros. La programación de R es extensible cómodamente a través de los servicios y de las extensiones. Muchas de las características típicas de R están escritas en R, lo que hace que es práctico para que los usuarios sigan las selecciones algorítmicas realizadas. Para las tareas de computación intensiva, código C, C ++ y Fortran también se vinculará y se llamará en tiempo de ejecución. Los usuarios desarrollados pueden escribir código C, C ++, Java, .NET o Python para controlar objetos R inmediatamente.\n"
   ]
  }
 ],
 "metadata": {
  "kernelspec": {
   "display_name": "Python 3",
   "language": "python",
   "name": "python3"
  },
  "language_info": {
   "codemirror_mode": {
    "name": "ipython",
    "version": 3
   },
   "file_extension": ".py",
   "mimetype": "text/x-python",
   "name": "python",
   "nbconvert_exporter": "python",
   "pygments_lexer": "ipython3",
   "version": "3.6.1"
  }
 },
 "nbformat": 4,
 "nbformat_minor": 2
}
