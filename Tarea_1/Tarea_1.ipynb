{
 "cells": [
  {
   "cell_type": "markdown",
   "metadata": {},
   "source": [
    "# Resolviendo el tutorial de Markdown\n",
    "## Italics and Bold\n",
    "1. Writing in Markdown is _not_ that hard!  \n",
    "2. I **will** complete these lessons!  \n",
    "3. \"_Of course_,\" she whispered. Then, she shouted: \"All I need is **a little moxie**!\"  \n",
    "4. If you're thinking to yourself, **_This is unbelievable_**, you'd probably be right.  "
   ]
  },
  {
   "cell_type": "markdown",
   "metadata": {},
   "source": [
    "## Headers  \n",
    "1. # Header one\n",
    "## Header two\n",
    "### Header three\n",
    "#### Header four\n",
    "##### Header five\n",
    "###### Header six\n",
    "2.  #### Colombian Symbolism in _One Hundred Years of Solitude_\n",
    "\n",
    "    Here's some words about the book _One Hundred Years..._."
   ]
  },
  {
   "cell_type": "markdown",
   "metadata": {},
   "source": [
    "## Links\n",
    "1. [Search for it.](www.google.com)  \n",
    "2. [You're **really, really** going to want to see this.](www.dailykitten.com)  \n",
    "3. #### The Latest News from [the BBC](www.bbc.com/news)\n",
    "4. Do you want to [see something fun][fun place]?\n",
    "\n",
    "   Well, do I have [the website for you][another fun place]!\n",
    "   [fun place]: www.zombo.com\n",
    "   [another fun place]: www.stumbleupon.com     "
   ]
  },
  {
   "cell_type": "markdown",
   "metadata": {},
   "source": [
    "## Images\n",
    "1. ![A representation of Octdrey Catburn](http://octodex.github.com/images/octdrey-catburn.jpg)\n",
    "2. ![The first father][First Father]\n",
    "\n",
    "   ![The second first father][Second Father]\n",
    "   [First Father]: http://octodex.github.com/images/founding-father.jpg\n",
    "   [Second Father]: http://octodex.github.com/images/foundingfather_v2.png"
   ]
  },
  {
   "cell_type": "markdown",
   "metadata": {},
   "source": [
    "## Blockquotes\n",
    "1. I read this interesting quote the other day:\n",
    "\n",
    "   >\"Her eyes had called him and his soul had leaped at the call. To live, to err, to fall, to triumph, to recreate life out of      life!\"\n",
    "2. >Once upon a time and a very good time it was there was a moocow coming down along the road and this moocow that was coming       down along the road met a nicens little boy named baby tuckoo...\n",
    "\n",
    "   >His father told him that story: his father looked at him through a glass: he had a hairy face.\n",
    "\n",
    "   >He was baby tuckoo. The moocow came down the road where Betty Byrne lived: she sold lemon platt.   \n",
    "3. >He left her quickly, fearing that her intimacy might turn to jibing and wishing to be out of the way before she offered her     ware to another, a tourist from England or a student of Trinity. Grafton Street, along which he walked, prolonged that           moment of discouraged poverty. In the roadway at the head of the street a slab was set to the memory of Wolfe Tone and he       remembered having been present with his father at its laying. He remembered with bitterness that scene of tawdry tribute.       There were four French delegates in a brake and one, a plump smiling young man, held, wedged on a stick, a card on which          were printed the words: _VIVE L'IRLANDE_!   "
   ]
  },
  {
   "cell_type": "markdown",
   "metadata": {},
   "source": [
    "## Lists\n",
    "1. * Flour\n",
    "   * Cheese\n",
    "   * Tomatoes\n",
    "2. 1. Cut the cheese\n",
    "   2. Slice the tomatoes\n",
    "   3. Rub the tomatoes in flour    \n",
    "3. * Azalea (_Ericaceae Rhododendron_)\n",
    "   * Chrysanthemum (_Anthemideae Chrysanthemum_)\n",
    "   * Dahlia (_Coreopsideae Dahlia_)  \n",
    "4. * Calculus\n",
    "    * A professor\n",
    "    * Has no hair\n",
    "    * Often wears green\n",
    "  * Castafiore\n",
    "    * An opera singer\n",
    "    * Has white hair\n",
    "    * Is possibly mentally unwell\n",
    "5. "
   ]
  },
  {
   "cell_type": "markdown",
   "metadata": {},
   "source": [
    "## Paragraphs\n",
    "1. We pictured the meek mild creatures where  \n",
    "   They dwelt in their strawy pen,  \n",
    "   Nor did it occur to one of us there  \n",
    "   To doubt they were kneeling then.\n",
    "2. 1. Crack three eggs over a bowl.  \n",
    "      Now, you're going to want to crack the eggs in such a way that you don't make a mess.  \n",
    "      If you _do_ make a mess, use a towel to clean it up!  \n",
    "   2. Pour a gallon of milk into the bowl.  \n",
    "      Basically, take the same guidance as above: don't be messy, but if you are, clean it up!     "
   ]
  },
  {
   "cell_type": "code",
   "execution_count": null,
   "metadata": {
    "collapsed": true
   },
   "outputs": [],
   "source": []
  }
 ],
 "metadata": {
  "kernelspec": {
   "display_name": "R",
   "language": "R",
   "name": "ir"
  },
  "language_info": {
   "codemirror_mode": "r",
   "file_extension": ".r",
   "mimetype": "text/x-r-source",
   "name": "R",
   "pygments_lexer": "r",
   "version": "3.4.1"
  }
 },
 "nbformat": 4,
 "nbformat_minor": 2
}
